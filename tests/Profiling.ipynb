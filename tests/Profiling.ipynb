{
 "cells": [
  {
   "cell_type": "markdown",
   "metadata": {},
   "source": [
    "## Profiling Code"
   ]
  },
  {
   "cell_type": "markdown",
   "metadata": {},
   "source": [
    "Here we compare the optimized to the unoptimized version of the VAE to the optimized version. We first load the MNIST data and intialize the classes."
   ]
  },
  {
   "cell_type": "code",
   "execution_count": 30,
   "metadata": {
    "collapsed": true
   },
   "outputs": [],
   "source": [
    "import pickle, gzip\n",
    "import matplotlib.pyplot as plt \n",
    "import numpy as np\n",
    "import math\n",
    "import random\n",
    "import sys\n",
    "%matplotlib inline"
   ]
  },
  {
   "cell_type": "code",
   "execution_count": 31,
   "metadata": {
    "collapsed": true
   },
   "outputs": [],
   "source": [
    "sys.path.append('..\\\\vae')"
   ]
  },
  {
   "cell_type": "code",
   "execution_count": 32,
   "metadata": {
    "collapsed": false,
    "scrolled": true
   },
   "outputs": [],
   "source": [
    "with gzip.open('..\\\\resources\\\\mnist.pkl.gz', 'rb') as f:\n",
    "    train, test, val = pickle.load(f, encoding='latin1')\n",
    "    mnist = train[0]"
   ]
  },
  {
   "cell_type": "markdown",
   "metadata": {},
   "source": [
    "### Unoptimized Version"
   ]
  },
  {
   "cell_type": "code",
   "execution_count": 33,
   "metadata": {
    "collapsed": true
   },
   "outputs": [],
   "source": [
    "from vae_unoptimized import vae_unoptimized"
   ]
  },
  {
   "cell_type": "code",
   "execution_count": 34,
   "metadata": {
    "collapsed": true
   },
   "outputs": [],
   "source": [
    "def act(x):\n",
    "    '''activation function'''\n",
    "    mat = list()\n",
    "    for r in x:\n",
    "        row = list()\n",
    "        for c in r:\n",
    "            row.append(1 / (1 + math.exp(- c)))\n",
    "        mat.append(row)\n",
    "    return mat\n",
    "    \n",
    "def grad_act(x):\n",
    "    '''grad of activation function'''\n",
    "    mat = list()\n",
    "    for r in x:\n",
    "        row = list()\n",
    "        for c in r:\n",
    "            row.append(math.exp(- c) / (1 + math.exp(- c))**2)\n",
    "        mat.append(row)\n",
    "    return mat\n",
    "\n",
    "def loss(x):\n",
    "    '''squared error loss'''\n",
    "    mat = list()\n",
    "    for r in x:\n",
    "        row = list()\n",
    "        for c in r:\n",
    "            row.append(math.exp(- c) / (1 + math.exp(- c))**2)\n",
    "        mat.append(row)\n",
    "    return mat\n",
    "\n",
    "def grad_loss(A, B):\n",
    "    '''grad of squared error loss'''\n",
    "    mat = list()\n",
    "    for i, row in enumerate(A):\n",
    "        r = list()\n",
    "        for j, column in enumerate(row):\n",
    "            r.append( -A[i][j] + B[i][j])\n",
    "        mat.append(r)\n",
    "    return mat"
   ]
  },
  {
   "cell_type": "code",
   "execution_count": 35,
   "metadata": {
    "collapsed": true
   },
   "outputs": [],
   "source": [
    "params = {\n",
    "    'alpha' : 0.1,\n",
    "    'max_iter' : 2,\n",
    "    'activation' : act,\n",
    "    'grad_act' : grad_act,\n",
    "    'loss' : loss,\n",
    "    'grad_loss' : grad_loss,\n",
    "    'mode' : 'autoencoder'\n",
    "}\n",
    "\n",
    "unopt = vae_unoptimized([784, 200], [784, 200], params)"
   ]
  },
  {
   "cell_type": "code",
   "execution_count": 36,
   "metadata": {
    "collapsed": false
   },
   "outputs": [
    {
     "name": "stdout",
     "output_type": "stream",
     "text": [
      " \n",
      "*** Profile stats marshalled to file 'train_unoptimized.prof'. \n"
     ]
    }
   ],
   "source": [
    "%prun -q -D train_unoptimized.prof unopt.train(mnist[0:10], mnist[0:10])"
   ]
  },
  {
   "cell_type": "code",
   "execution_count": 45,
   "metadata": {
    "collapsed": false
   },
   "outputs": [
    {
     "name": "stdout",
     "output_type": "stream",
     "text": [
      "Sun Apr 30 15:20:47 2017    train_unoptimized.prof\n",
      "\n",
      "         2086296 function calls in 14.491 seconds\n",
      "\n",
      "   Random listing order was used\n",
      "\n",
      "   ncalls  tottime  percall  cumtime  percall filename:lineno(function)\n",
      "        8    0.013    0.002    0.017    0.002 <ipython-input-34-a7a6fecb4bff>:1(act)\n",
      "        8    0.010    0.001    0.011    0.001 ..\\vae\\vae_unoptimized.py:95(multiply)\n",
      "        1    0.000    0.000   14.491   14.491 {built-in method builtins.exec}\n",
      "        1    0.015    0.015   14.487   14.487 ..\\vae\\vae_unoptimized.py:249(train)\n",
      "        1    0.000    0.000    0.000    0.000 {method 'disable' of '_lsprof.Profiler' objects}\n",
      "        8    0.146    0.018    0.174    0.022 ..\\vae\\vae_unoptimized.py:85(scalar_mult)\n",
      "       18    0.000    0.000    0.013    0.001 ..\\vae\\vae_unoptimized.py:114(t)\n",
      "       22   13.905    0.632   13.948    0.634 ..\\vae\\vae_unoptimized.py:72(matmult)\n",
      "       18    0.013    0.001    0.013    0.001 ..\\vae\\vae_unoptimized.py:116(<listcomp>)\n",
      "        8    0.212    0.027    0.243    0.030 ..\\vae\\vae_unoptimized.py:118(mat_sub)\n",
      "        8    0.020    0.002    0.027    0.003 <ipython-input-34-a7a6fecb4bff>:11(grad_act)\n",
      "    71160    0.009    0.000    0.009    0.000 {built-in method math.exp}\n",
      "     2512    0.000    0.000    0.000    0.000 {built-in method builtins.len}\n",
      "        2    0.034    0.017    0.035    0.017 <ipython-input-34-a7a6fecb4bff>:31(grad_loss)\n",
      "        2    0.001    0.000    6.706    3.353 ..\\vae\\vae_unoptimized.py:205(feedforward)\n",
      "  2012516    0.107    0.000    0.107    0.000 {method 'append' of 'list' objects}\n",
      "        1    0.003    0.003   14.491   14.491 <string>:1(<module>)\n",
      "        2    0.003    0.001    7.349    3.674 ..\\vae\\vae_unoptimized.py:147(backprop)\n",
      "\n",
      "\n"
     ]
    }
   ],
   "source": [
    "import pstats\n",
    "p = pstats.Stats('train_unoptimized.prof')\n",
    "p.print_stats()\n",
    "pass"
   ]
  },
  {
   "cell_type": "markdown",
   "metadata": {},
   "source": [
    "The majority of the slowdown seems to be in the feeforward and backpropagation steps. These are heavily dependent on matrix mutliplication, so we will vectorize them."
   ]
  },
  {
   "cell_type": "markdown",
   "metadata": {},
   "source": [
    "### Optimized Version"
   ]
  },
  {
   "cell_type": "code",
   "execution_count": 46,
   "metadata": {
    "collapsed": true
   },
   "outputs": [],
   "source": [
    "from vae import vae"
   ]
  },
  {
   "cell_type": "code",
   "execution_count": 47,
   "metadata": {
    "collapsed": true
   },
   "outputs": [],
   "source": [
    "params = {\n",
    "    'alpha' : 0.1,\n",
    "    'max_iter' : 2,\n",
    "    'activation' : (lambda x: 1 / (1 + np.exp(-x))),\n",
    "    'grad_act' : (lambda x: np.exp(-x) / (1 + np.exp(-x))**2),\n",
    "    'loss' : (lambda y, yhat: 0.5 * np.sum((y - yhat)**2)),\n",
    "    'grad_loss' : (lambda y, yhat: y - yhat),\n",
    "    'mode' : 'autoencoder'\n",
    "}\n",
    "\n",
    "opt = vae([784, 200], [784, 200], params)"
   ]
  },
  {
   "cell_type": "code",
   "execution_count": 48,
   "metadata": {
    "collapsed": false
   },
   "outputs": [
    {
     "name": "stdout",
     "output_type": "stream",
     "text": [
      " \n",
      "*** Profile stats marshalled to file 'train_optimized.prof'. \n"
     ]
    }
   ],
   "source": [
    "%prun -q -D train_optimized.prof opt.train(mnist[0:10], mnist[0:10])"
   ]
  },
  {
   "cell_type": "code",
   "execution_count": 49,
   "metadata": {
    "collapsed": false
   },
   "outputs": [
    {
     "name": "stdout",
     "output_type": "stream",
     "text": [
      "Sun Apr 30 15:33:31 2017    train_optimized.prof\n",
      "\n",
      "         36 function calls in 0.016 seconds\n",
      "\n",
      "   Random listing order was used\n",
      "\n",
      "   ncalls  tottime  percall  cumtime  percall filename:lineno(function)\n",
      "       10    0.001    0.000    0.001    0.000 <ipython-input-47-b0bed5c11f7e>:5(<lambda>)\n",
      "        1    0.000    0.000    0.016    0.016 {built-in method builtins.exec}\n",
      "        4    0.000    0.000    0.000    0.000 {built-in method numpy.core.multiarray.arange}\n",
      "        1    0.000    0.000    0.000    0.000 {method 'disable' of '_lsprof.Profiler' objects}\n",
      "        2    0.003    0.002    0.004    0.002 ..\\vae\\vae.py:103(feedforward)\n",
      "        2    0.000    0.000    0.000    0.000 {built-in method numpy.core.multiarray.array}\n",
      "        1    0.004    0.004    0.016    0.016 ..\\vae\\vae.py:142(train)\n",
      "        2    0.000    0.000    0.000    0.000 <ipython-input-47-b0bed5c11f7e>:7(<lambda>)\n",
      "        2    0.007    0.003    0.008    0.004 ..\\vae\\vae.py:53(backprop)\n",
      "        8    0.001    0.000    0.001    0.000 <ipython-input-47-b0bed5c11f7e>:4(<lambda>)\n",
      "        2    0.000    0.000    0.000    0.000 ..\\vae\\vae.py:49(KLD_grad)\n",
      "        1    0.000    0.000    0.016    0.016 <string>:1(<module>)\n",
      "\n",
      "\n"
     ]
    }
   ],
   "source": [
    "import pstats\n",
    "p = pstats.Stats('train_optimized.prof')\n",
    "p.print_stats()\n",
    "pass"
   ]
  },
  {
   "cell_type": "markdown",
   "metadata": {},
   "source": [
    "By vectorizing matrix multiplication with numpy we have produce a 1000 fold speedup."
   ]
  }
 ],
 "metadata": {
  "kernelspec": {
   "display_name": "Python [conda root]",
   "language": "python",
   "name": "conda-root-py"
  },
  "language_info": {
   "codemirror_mode": {
    "name": "ipython",
    "version": 3
   },
   "file_extension": ".py",
   "mimetype": "text/x-python",
   "name": "python",
   "nbconvert_exporter": "python",
   "pygments_lexer": "ipython3",
   "version": "3.5.2"
  }
 },
 "nbformat": 4,
 "nbformat_minor": 2
}
