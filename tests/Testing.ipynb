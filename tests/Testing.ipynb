{
 "cells": [
  {
   "cell_type": "markdown",
   "metadata": {},
   "source": [
    "### Testing Code"
   ]
  },
  {
   "cell_type": "code",
   "execution_count": 1,
   "metadata": {},
   "outputs": [],
   "source": [
    "from vae import VAE\n",
    "import numpy as np\n",
    "from numpy.testing import assert_almost_equal"
   ]
  },
  {
   "cell_type": "code",
   "execution_count": 2,
   "metadata": {
    "collapsed": true
   },
   "outputs": [],
   "source": [
    "params = {\n",
    "    'alpha' : 0.2,\n",
    "    'iter' : 5,\n",
    "    'activation': 'sigmoid',\n",
    "    'loss': 'squared_error',\n",
    "    'batch_size': 0\n",
    "}\n",
    "\n",
    "example = vae([[2, 2], [2, 2]], params)"
   ]
  },
  {
   "cell_type": "code",
   "execution_count": 3,
   "metadata": {},
   "outputs": [],
   "source": [
    "import unittest\n",
    "import numpy as np\n",
    "from numpy.testing import assert_almost_equal\n",
    "\n",
    "class TestVAE(unittest.TestCase):\n",
    "    \n",
    "    def setUp(self):\n",
    "        self.vaeT = VAE([[2, 2], [2, 2]], params)\n",
    "        \n",
    "    def test_KLD_grad(self):\n",
    "        self.vaeT.mu = np.array([1,0])\n",
    "        self.vaeT.sigma = np.array([0,0])\n",
    "        sol = np.array([[0,0],[-1,0]])\n",
    "        assert_almost_equal(self.vaeT._kl_divegence_loss(), sol)\n",
    "        \n",
    "    def test_feedforward(self):\n",
    "        train_data = np.array([[1,0],[0,1]])\n",
    "        sol = np.array([[0.49,0.49],[0.49,0.49]])\n",
    "        assert_almost_equal(self.vaeT._forwardstep(train_data), sol,decimal = 2)\n",
    "\n",
    "    def test_backprop(self):\n",
    "        X = np.array([[0,0],[0,0]])\n",
    "        y = np.array([[0,0],[0,0]])\n",
    "        yhat = np.array([0,0])\n",
    "        train_data = np.array([[1,0],[0,1]])\n",
    "        tmp = self.vaeT._forwardstep(train_data)\n",
    "        sol = ({0: np.array([[ 0.,  0.],\n",
    "         [ 0.,  0.]]), 1: np.array([[-0.04, -0.06],\n",
    "         [-0.04, -0.06]])}, {0: np.array([[ 0.,  0.],\n",
    "         [ 0.,  0.]]), 1: np.array([[ 0.,  0.],\n",
    "         [ 0.,  0.]])})\n",
    "        assert_almost_equal(self.vaeT.backwardstep(X,y,yhat)[0][0],sol[0][0],decimal = 2)\n",
    "        "
   ]
  },
  {
   "cell_type": "code",
   "execution_count": 4,
   "metadata": {},
   "outputs": [
    {
     "name": "stderr",
     "output_type": "stream",
     "text": [
      "test_KLD_grad (__main__.TestVAE) ... ok\n",
      "test_KLD_loss (__main__.TestVAE) ... ok\n",
      "test_backprop (__main__.TestVAE) ... ok\n",
      "test_feedforward (__main__.TestVAE) ... ok\n",
      "\n",
      "----------------------------------------------------------------------\n",
      "Ran 4 tests in 0.009s\n",
      "\n",
      "OK\n"
     ]
    },
    {
     "data": {
      "text/plain": [
       "<unittest.runner.TextTestResult run=4 errors=0 failures=0>"
      ]
     },
     "execution_count": 4,
     "metadata": {},
     "output_type": "execute_result"
    }
   ],
   "source": [
    "suite = unittest.TestLoader().loadTestsFromTestCase(TestVAE)\n",
    "unittest.TextTestRunner(verbosity=2).run(suite)"
   ]
  }
 ],
 "metadata": {
  "kernelspec": {
   "display_name": "Python 3",
   "language": "python",
   "name": "python3"
  },
  "language_info": {
   "codemirror_mode": {
    "name": "ipython",
    "version": 3
   },
   "file_extension": ".py",
   "mimetype": "text/x-python",
   "name": "python",
   "nbconvert_exporter": "python",
   "pygments_lexer": "ipython3",
   "version": "3.6.1"
  }
 },
 "nbformat": 4,
 "nbformat_minor": 2
}
