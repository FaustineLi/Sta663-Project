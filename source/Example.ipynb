{
 "cells": [
  {
   "cell_type": "markdown",
   "metadata": {},
   "source": [
    "## Example of Training a Neural Network"
   ]
  },
  {
   "cell_type": "markdown",
   "metadata": {},
   "source": [
    "We will be training a neural network using a modified version of the VAE network. By elmininating the term on the loss function and setting epsilon equal to zero, we arrive at an autoencoder framework that reconstructs hand-written digits. "
   ]
  },
  {
   "cell_type": "code",
   "execution_count": 1,
   "metadata": {
    "collapsed": false
   },
   "outputs": [],
   "source": [
    "import sklearn.datasets\n",
    "import matplotlib.pyplot as plt \n",
    "# from VAE import VAE\n",
    "% matplotlib inline"
   ]
  },
  {
   "cell_type": "code",
   "execution_count": 2,
   "metadata": {
    "collapsed": false
   },
   "outputs": [],
   "source": [
    "digits = sklearn.datasets.load_digits()"
   ]
  },
  {
   "cell_type": "code",
   "execution_count": 3,
   "metadata": {
    "collapsed": false
   },
   "outputs": [],
   "source": [
    "import numpy as np\n",
    "\n",
    "class VAE(object):\n",
    "\n",
    "    def __init__(self, input_dim, output_dim, params):\n",
    "\n",
    "        # initialize size of VAE \n",
    "        self.encoder_layer_sizes = input_dim + [2]\n",
    "        self.decoder_layer_sizes = [2] + output_dim[::-1] \n",
    "        self.total_layer_sizes   = input_dim + [2] + output_dim[::-1]\n",
    "       \n",
    "        self.number_encoder_layers = len(self.encoder_layer_sizes) - 1\n",
    "        self.number_decoder_layers = len(self.decoder_layer_sizes) - 1\n",
    "        self.number_total_layers   = len(self.total_layer_sizes) - 1\n",
    "\n",
    "        # intialize weights\n",
    "        self.encoder_weights = {}\n",
    "        for i in range(self.number_encoder_layers):\n",
    "            self.encoder_weights[i] = np.random.uniform(-0.1, 0.1, \n",
    "                                                        (self.encoder_layer_sizes[i], \n",
    "                                                         self.encoder_layer_sizes[i+1])) \n",
    "        self.decoder_weights = {}\n",
    "        for i in range(self.number_decoder_layers):\n",
    "            self.decoder_weights[i] = np.random.uniform(-0.1, 0.1, \n",
    "                                                        (self.decoder_layer_sizes[i],\n",
    "                                                         self.decoder_layer_sizes[i+1]))\n",
    "        # set params\n",
    "        self.alpha = params['alpha']\n",
    "        #self.activation = params['activation']\n",
    "        #self.loss = params['loss']\n",
    "        self.max_iter = params['max_iter']\n",
    "\n",
    "    def train(self, train_data):\n",
    "        '''train the VAE model'''\n",
    "        count = 0\n",
    "        while count < self.max_iter:   \n",
    "            \n",
    "            # feed forward network\n",
    "            yhat = self.feedforward(train_data)\n",
    "            \n",
    "            # backpropogate errors\n",
    "            grad_encoder, grad_decoder = self.backprop(train_data, yhat)\n",
    "        \n",
    "            # update weights with gradient descent\n",
    "            for i in range(self.number_decoder_layers):\n",
    "                self.decoder_weights[i] -= self.alpha * grad_decoder[i]\n",
    "                \n",
    "            for i in range(self.number_encoder_layers):\n",
    "                self.encoder_weights[i] -= self.alpha * grad_encoder[i]\n",
    "                \n",
    "            count += 1\n",
    "            \n",
    "        return yhat\n",
    "\n",
    "    def predict_(self):\n",
    "        '''predicts on a trained VAE model'''        \n",
    "        \n",
    "        # sample from latent variable space\n",
    "        \n",
    "        # feedforward on decoder\n",
    "        \n",
    "        pass\n",
    "\n",
    "    def backprop(self, y, yhat):\n",
    "        '''back-propagation algorithm'''\n",
    "        # initialize \n",
    "        grad_decoder = {}\n",
    "        grad_encoder = {}\n",
    "        \n",
    "        # backpropogate error through decoder layers\n",
    "        delta = - self.grad_loss(y, yhat) * self.grad_activation(self.decoder_input[1])\n",
    "        grad_decoder[1] = self.decoder_activation[0].T @ delta\n",
    "        \n",
    "        delta = delta @ self.decoder_weights[1].T * self.grad_activation(self.decoder_input[0])\n",
    "        grad_decoder[0] = self.encoder_activation[1].T @ delta \n",
    "        \n",
    "        # backpropogate errors through encoder layers\n",
    "        delta = delta @ self.decoder_weights[0].T * self.grad_activation(self.encoder_input[1])\n",
    "        grad_encoder[1] = self.encoder_activation[0].T @ delta\n",
    "        \n",
    "        delta = delta @ self.encoder_weights[1].T * self.grad_activation(self.encoder_input[0])\n",
    "        grad_encoder[0] = y.T @ delta\n",
    "        \n",
    "        return grad_encoder, grad_decoder\n",
    "    \n",
    "    def activation(self, x):\n",
    "        '''activation function'''\n",
    "        return 1 / (1 + np.exp(-x))\n",
    "    \n",
    "    def grad_activation(self, x):\n",
    "        '''derivative of the activation function'''\n",
    "        return np.exp(-x) / (1 + np.exp(-x))**2\n",
    "    \n",
    "    def loss(self, x, y):\n",
    "        '''loss function'''\n",
    "        return 0.5 * np.sum((x - y)**2)\n",
    "    \n",
    "    def grad_loss(self, x, y):\n",
    "        '''gradient of loss function'''\n",
    "        return x - y   \n",
    "            \n",
    "    def feedforward(self, train_data):\n",
    "        '''feedforward update step'''\n",
    "        # initialize storage for activations\n",
    "        self.encoder_input = {}\n",
    "        self.encoder_activation = {}\n",
    "        self.decoder_input = {}\n",
    "        self.decoder_activation = {}\n",
    "        \n",
    "        self.encoder_input[0]      = train_data @ self.encoder_weights[0]\n",
    "        self.encoder_activation[0] = self.activation(self.encoder_input[0])\n",
    "            \n",
    "        # feedforward update on encoder network\n",
    "        for i in range(1, self.number_encoder_layers):\n",
    "            self.encoder_input[i] = self.encoder_input[i-1] @ self.encoder_weights[i]\n",
    "            self.encoder_activation[i] = self.activation(self.encoder_input[i])\n",
    "        \n",
    "        # store output as encoded latent variable parameters\n",
    "        self.mu = self.encoder_activation[i][0]\n",
    "        self.sigma = self.encoder_activation[i][1]\n",
    "        \n",
    "        # sample latent variable using reparameterization trick\n",
    "        \n",
    "        # feedforward update on the decoder network\n",
    "        self.decoder_input[0]      = self.encoder_activation[i] @ self.decoder_weights[0]\n",
    "        self.decoder_activation[0] = self.activation(self.decoder_input[0])\n",
    "        \n",
    "        for i in range(1, self.number_decoder_layers):\n",
    "            self.decoder_input[i] = self.decoder_input[i-1] @ self.decoder_weights[i]\n",
    "            self.decoder_activation[i] = self.activation(self.decoder_input[i])\n",
    "            \n",
    "        # output activation\n",
    "        self.output = self.decoder_activation[i]\n",
    "\n",
    "        return self.output"
   ]
  },
  {
   "cell_type": "markdown",
   "metadata": {},
   "source": [
    "After we import the VAE class, we set up the parameters and intialize the weights.  "
   ]
  },
  {
   "cell_type": "code",
   "execution_count": 4,
   "metadata": {
    "collapsed": false
   },
   "outputs": [],
   "source": [
    "params = {\n",
    "    'alpha' : 0.1,\n",
    "    'activation' : 1,\n",
    "    'loss' : 1,\n",
    "    'max_iter' : 100\n",
    "}\n",
    "\n",
    "example = VAE([64, 20], [64, 20], params)"
   ]
  },
  {
   "cell_type": "markdown",
   "metadata": {},
   "source": [
    "### Training on Digits"
   ]
  },
  {
   "cell_type": "markdown",
   "metadata": {},
   "source": [
    "Here we pass in two training digits of size 8 by 8 pixels."
   ]
  },
  {
   "cell_type": "code",
   "execution_count": 5,
   "metadata": {
    "collapsed": false
   },
   "outputs": [
    {
     "data": {
      "image/png": "[encoded data removed]",
      "text/plain": [
       "<matplotlib.figure.Figure at 0x136d994fdd8>"
      ]
     },
     "metadata": {},
     "output_type": "display_data"
    }
   ],
   "source": [
    "in_digit = np.array((digits.data[0], digits.data[20])) / 256\n",
    "fig, ax = plt.subplots(1,2)\n",
    "ax[0].matshow(in_digit[0].reshape((8,8)), cmap = 'gray')\n",
    "ax[1].matshow(in_digit[1].reshape((8,8)), cmap = 'gray')\n",
    "pass"
   ]
  },
  {
   "cell_type": "markdown",
   "metadata": {},
   "source": [
    "We intialize the weights to be random, so the first pass looks jumbled."
   ]
  },
  {
   "cell_type": "code",
   "execution_count": 6,
   "metadata": {
    "collapsed": false
   },
   "outputs": [
    {
     "data": {
      "image/png": "[encoded data removed]",
      "text/plain": [
       "<matplotlib.figure.Figure at 0x136d994f630>"
      ]
     },
     "metadata": {},
     "output_type": "display_data"
    }
   ],
   "source": [
    "out_digit = example.feedforward(in_digit)\n",
    "fig, ax = plt.subplots(1,2)\n",
    "ax[0].matshow(out_digit[0].reshape((8,8)), cmap = 'gray')\n",
    "ax[1].matshow(out_digit[1].reshape((8,8)), cmap = 'gray')\n",
    "pass"
   ]
  },
  {
   "cell_type": "markdown",
   "metadata": {},
   "source": [
    "We then train the network to reduce the loss function and reproduce the images. Here is the images after 50 training iterations."
   ]
  },
  {
   "cell_type": "code",
   "execution_count": 7,
   "metadata": {
    "collapsed": false
   },
   "outputs": [
    {
     "data": {
      "image/png": "[encoded data removed]",
      "text/plain": [
       "<matplotlib.figure.Figure at 0x136d99bceb8>"
      ]
     },
     "metadata": {},
     "output_type": "display_data"
    }
   ],
   "source": [
    "out_trained = example.train(in_digit)\n",
    "fig, ax = plt.subplots(1,2)\n",
    "ax[0].matshow(out_trained[0].reshape((8,8)), cmap = 'gray')\n",
    "ax[1].matshow(out_trained[1].reshape((8,8)), cmap = 'gray')\n",
    "pass"
   ]
  }
 ],
 "metadata": {
  "kernelspec": {
   "display_name": "Python [conda root]",
   "language": "python",
   "name": "conda-root-py"
  },
  "language_info": {
   "codemirror_mode": {
    "name": "ipython",
    "version": 3
   },
   "file_extension": ".py",
   "mimetype": "text/x-python",
   "name": "python",
   "nbconvert_exporter": "python",
   "pygments_lexer": "ipython3",
   "version": "3.5.2"
  }
 },
 "nbformat": 4,
 "nbformat_minor": 2
}
