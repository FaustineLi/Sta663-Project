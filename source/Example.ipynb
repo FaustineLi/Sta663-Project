{
 "cells": [
  {
   "cell_type": "markdown",
   "metadata": {},
   "source": [
    "## Example of Training a Neural Network"
   ]
  },
  {
   "cell_type": "markdown",
   "metadata": {},
   "source": [
    "We will be training a neural network using a modified version of the VAE network. By elmininating the term on the loss function and setting epsilon equal to zero, we arrive at an autoencoder framework that reconstructs hand-written digits. "
   ]
  },
  {
   "cell_type": "code",
   "execution_count": 1,
   "metadata": {
    "collapsed": false
   },
   "outputs": [],
   "source": [
    "import sklearn.datasets\n",
    "import matplotlib.pyplot as plt \n",
    "from VAE import VAE\n",
    "% matplotlib inline"
   ]
  },
  {
   "cell_type": "code",
   "execution_count": 2,
   "metadata": {
    "collapsed": false
   },
   "outputs": [],
   "source": [
    "digits = sklearn.datasets.load_digits()"
   ]
  },
  {
   "cell_type": "markdown",
   "metadata": {},
   "source": [
    "After we import the VAE class, we set up the parameters and intialize the weights.  "
   ]
  },
  {
   "cell_type": "code",
   "execution_count": 3,
   "metadata": {
    "collapsed": false
   },
   "outputs": [],
   "source": [
    "params = {\n",
    "    'alpha' : 0.1,\n",
    "    'activation' : 1,\n",
    "    'loss' : 1,\n",
    "    'max_iter' : 100\n",
    "}\n",
    "\n",
    "example = VAE([64, 20], [64, 20], params)"
   ]
  },
  {
   "cell_type": "markdown",
   "metadata": {},
   "source": [
    "### Training on Digits"
   ]
  },
  {
   "cell_type": "markdown",
   "metadata": {},
   "source": [
    "Here we pass in two training digits of size 8 by 8 pixels."
   ]
  },
  {
   "cell_type": "code",
   "execution_count": 4,
   "metadata": {
    "collapsed": false
   },
   "outputs": [
    {
     "data": {
      "image/png": "[encoded data removed]",
      "text/plain": [
       "<matplotlib.figure.Figure at 0x11e2a789710>"
      ]
     },
     "metadata": {},
     "output_type": "display_data"
    }
   ],
   "source": [
    "in_digit = digits.data[0:2]\n",
    "fig, ax = plt.subplots(1,2)\n",
    "ax[0].matshow(in_digit[0].reshape((8,8)), cmap = 'gray')\n",
    "ax[1].matshow(in_digit[1].reshape((8,8)), cmap = 'gray')\n",
    "pass"
   ]
  },
  {
   "cell_type": "markdown",
   "metadata": {},
   "source": [
    "We intialize the weights to be random, so the first pass looks jumbled."
   ]
  },
  {
   "cell_type": "code",
   "execution_count": 5,
   "metadata": {
    "collapsed": false
   },
   "outputs": [
    {
     "data": {
      "image/png": "[encoded data removed]",
      "text/plain": [
       "<matplotlib.figure.Figure at 0x11e2a7ff390>"
      ]
     },
     "metadata": {},
     "output_type": "display_data"
    }
   ],
   "source": [
    "out_digit = example.feedforward(in_digit)\n",
    "fig, ax = plt.subplots(1,2)\n",
    "ax[0].matshow(out_digit[0].reshape((8,8)), cmap = 'gray')\n",
    "ax[1].matshow(out_digit[1].reshape((8,8)), cmap = 'gray')\n",
    "pass"
   ]
  },
  {
   "cell_type": "markdown",
   "metadata": {},
   "source": [
    "We then train the network to reduce the loss function and reproduce the images. "
   ]
  },
  {
   "cell_type": "code",
   "execution_count": 8,
   "metadata": {
    "collapsed": false
   },
   "outputs": [
    {
     "data": {
      "image/png": "[encoded data removed]",
      "text/plain": [
       "<matplotlib.figure.Figure at 0x11e2a7c7550>"
      ]
     },
     "metadata": {},
     "output_type": "display_data"
    }
   ],
   "source": [
    "out_trained = example.train(out_digit)\n",
    "fig, ax = plt.subplots(1,2)\n",
    "ax[0].matshow(out_trained[0].reshape((8,8)), cmap = 'gray')\n",
    "ax[1].matshow(out_trained[1].reshape((8,8)), cmap = 'gray')\n",
    "pass"
   ]
  }
 ],
 "metadata": {
  "kernelspec": {
   "display_name": "Python [conda root]",
   "language": "python",
   "name": "conda-root-py"
  },
  "language_info": {
   "codemirror_mode": {
    "name": "ipython",
    "version": 3
   },
   "file_extension": ".py",
   "mimetype": "text/x-python",
   "name": "python",
   "nbconvert_exporter": "python",
   "pygments_lexer": "ipython3",
   "version": "3.5.2"
  }
 },
 "nbformat": 4,
 "nbformat_minor": 2
}
