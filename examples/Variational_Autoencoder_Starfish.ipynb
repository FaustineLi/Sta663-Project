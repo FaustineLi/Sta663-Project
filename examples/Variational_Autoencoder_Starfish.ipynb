{
 "cells": [
  {
   "cell_type": "markdown",
   "metadata": {},
   "source": [
    "## Training on Stars"
   ]
  },
  {
   "cell_type": "markdown",
   "metadata": {},
   "source": [
    "We can train our autoencoder on all sorts of data. We will now use a subset of the Caltech 101 dataset. This dataset contains 101 image classes. The version we will use is is the 16 by 16 silluettes. We chose this dataset because it is significantly smaller than the MNIST dataset, but still have interesting enough variation for our autoencoder to pick up. "
   ]
  },
  {
   "cell_type": "code",
   "execution_count": 13,
   "metadata": {
    "collapsed": true
   },
   "outputs": [],
   "source": [
    "import pickle, gzip\n",
    "import matplotlib.pyplot as plt \n",
    "import numpy as np\n",
    "import sys\n",
    "import scipy.io\n",
    "%matplotlib inline\n",
    "np.random.seed(0)"
   ]
  },
  {
   "cell_type": "code",
   "execution_count": 14,
   "metadata": {
    "collapsed": true,
    "scrolled": true
   },
   "outputs": [],
   "source": [
    "from vae import VAE"
   ]
  },
  {
   "cell_type": "code",
   "execution_count": 15,
   "metadata": {
    "collapsed": true
   },
   "outputs": [],
   "source": [
    "sil = scipy.io.loadmat('../resources/data/caltech101_16.mat')\n",
    "silX = sil['X']\n",
    "silY = sil['Y']\n",
    "silX_train = silX[np.where(sil['Y'] == 87)[1],:][0:80,:]\n",
    "silX_test  = silX[np.where(sil['Y'] == 87)[1],:][81:,:]"
   ]
  },
  {
   "cell_type": "markdown",
   "metadata": {},
   "source": [
    "Setting up the autoencoder:"
   ]
  },
  {
   "cell_type": "code",
   "execution_count": 23,
   "metadata": {
    "collapsed": true
   },
   "outputs": [],
   "source": [
    "params = {\n",
    "    'alpha' : 0.02,\n",
    "    'iter' : 50,\n",
    "    'activation': 'sigmoid',\n",
    "    'loss': 'squared_error',\n",
    "    'batch_size': 0\n",
    "}\n",
    "\n",
    "example = VAE([[256, 100], [100, 256]], 2, params)"
   ]
  },
  {
   "cell_type": "markdown",
   "metadata": {},
   "source": [
    "### Training"
   ]
  },
  {
   "cell_type": "markdown",
   "metadata": {},
   "source": [
    "Let's take a look at the training data. We filter to just the starfish class. Even for a simple black and white 16 by 16 image, there's a lot of variability. The image can be rotated or truncated. There can be more than one starfish in the image. "
   ]
  },
  {
   "cell_type": "code",
   "execution_count": 24,
   "metadata": {},
   "outputs": [
    {
     "data": {
      "image/png": "[encoded data removed]",
      "text/plain": [
       "<matplotlib.figure.Figure at 0x232beb4e198>"
      ]
     },
     "metadata": {},
     "output_type": "display_data"
    }
   ],
   "source": [
    "fig, ax = plt.subplots(1,4, figsize = (14, 10))\n",
    "for i in range(4):\n",
    "    ax[i].matshow(silX_train[i].reshape((16,16)), cmap='gray', clim=(0,1))\n",
    "pass"
   ]
  },
  {
   "cell_type": "code",
   "execution_count": 25,
   "metadata": {
    "collapsed": true
   },
   "outputs": [],
   "source": [
    "example.learn(silX_train)"
   ]
  },
  {
   "cell_type": "markdown",
   "metadata": {},
   "source": [
    "The prediction function of the variational autoencoder results in some blurry images, with some qualities of a starfish. The output of the first and the third picture seem to have five protuberances, which vaguely resemble arms. The seconds image seems to be a failing of the autoencoder, the results are a lot blurrier than expected."
   ]
  },
  {
   "cell_type": "code",
   "execution_count": 26,
   "metadata": {},
   "outputs": [
    {
     "data": {
      "image/png": "[encoded data removed]",
      "text/plain": [
       "<matplotlib.figure.Figure at 0x232bcb77940>"
      ]
     },
     "metadata": {},
     "output_type": "display_data"
    }
   ],
   "source": [
    "fig, ax = plt.subplots(2,3, figsize = (10, 6))\n",
    "\n",
    "for i in range(3):\n",
    "    in_star = silX_test[i][None,:]\n",
    "    out_star = example.encode_decode(in_star)\n",
    "    ax[0,i].matshow(in_star.reshape((16,16)),  cmap='gray', clim=(0,1))\n",
    "    ax[1,i].matshow(out_star.reshape((16,16)), cmap='gray', clim=(0,1))\n",
    "pass"
   ]
  },
  {
   "cell_type": "markdown",
   "metadata": {},
   "source": [
    "### References\n",
    "\n",
    "1. [Caltech 101](http://www.vision.caltech.edu/Image_Datasets/Caltech101/)"
   ]
  }
 ],
 "metadata": {
  "kernelspec": {
   "display_name": "Python 3",
   "language": "python",
   "name": "python3"
  },
  "language_info": {
   "codemirror_mode": {
    "name": "ipython",
    "version": 3
   },
   "file_extension": ".py",
   "mimetype": "text/x-python",
   "name": "python",
   "nbconvert_exporter": "python",
   "pygments_lexer": "ipython3",
   "version": "3.6.1"
  }
 },
 "nbformat": 4,
 "nbformat_minor": 2
}
