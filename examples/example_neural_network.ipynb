{
 "cells": [
  {
   "cell_type": "markdown",
   "metadata": {},
   "source": [
    "## Training a Neural Network"
   ]
  },
  {
   "cell_type": "markdown",
   "metadata": {},
   "source": [
    "We will be training a neural network using a modified version of the VAE network. By elmininating the KL divergence term on the loss function and setting epsilon equal to zero, we arrive at an autoencoder network that reconstructs hand-written digits. "
   ]
  },
  {
   "cell_type": "code",
   "execution_count": 1,
   "metadata": {
    "collapsed": false
   },
   "outputs": [],
   "source": [
    "import pickle, gzip\n",
    "import matplotlib.pyplot as plt \n",
    "import numpy as np\n",
    "import sys\n",
    "%matplotlib inline"
   ]
  },
  {
   "cell_type": "code",
   "execution_count": 2,
   "metadata": {
    "collapsed": false
   },
   "outputs": [],
   "source": [
    "sys.path.append('../vae')\n",
    "from vae import vae"
   ]
  },
  {
   "cell_type": "code",
   "execution_count": 3,
   "metadata": {
    "collapsed": false
   },
   "outputs": [],
   "source": [
    "with gzip.open('data\\mnist.pkl.gz', 'rb') as f:\n",
    "    train, test, val = pickle.load(f, encoding='latin1')\n",
    "    mnist = train[0]"
   ]
  },
  {
   "cell_type": "markdown",
   "metadata": {},
   "source": [
    "After we import the VAE class, we set up the parameters and intialize the weights. The loss function is the squared error and the activation function is the sigmoid. As part of backpropogation, we also need to pass in the derviative of the loss and activation. \n",
    "\n",
    "$$Loss(y, \\hat{y}) = \\sum (y - \\hat{y})^2$$\n",
    "$$\\sigma(x) = \\frac{1}{1 + exp(-x)}$$"
   ]
  },
  {
   "cell_type": "code",
   "execution_count": 4,
   "metadata": {
    "collapsed": false
   },
   "outputs": [],
   "source": [
    "params = {\n",
    "    'alpha' : 0.1,\n",
    "    'max_iter' : 2,\n",
    "    'activation' : (lambda x: 1 / (1 + np.exp(-x))),\n",
    "    'grad_act' : (lambda x: np.exp(-x) / (1 + np.exp(-x))**2),\n",
    "    'loss' : (lambda y, yhat: 0.5 * np.sum((y - yhat)**2)),\n",
    "    'grad_loss' : (lambda y, yhat: y - yhat),\n",
    "    'mode' : 'autoencoder'\n",
    "}\n",
    "\n",
    "example = vae([784, 200], [784, 200], params)"
   ]
  },
  {
   "cell_type": "markdown",
   "metadata": {},
   "source": [
    "### Training on Digits"
   ]
  },
  {
   "cell_type": "markdown",
   "metadata": {},
   "source": [
    "Here we pass a training digit, a zero, of size 28 by 28 pixels."
   ]
  },
  {
   "cell_type": "code",
   "execution_count": 5,
   "metadata": {
    "collapsed": false
   },
   "outputs": [
    {
     "data": {
      "image/png": "[encoded data removed]",
      "text/plain": [
       "<matplotlib.figure.Figure at 0x20c1d2cdb38>"
      ]
     },
     "metadata": {},
     "output_type": "display_data"
    }
   ],
   "source": [
    "in_digit = np.array((mnist[1][None,:]))\n",
    "plt.matshow(in_digit.reshape((28,28)), cmap='gray', clim=(0,1))\n",
    "pass"
   ]
  },
  {
   "cell_type": "markdown",
   "metadata": {},
   "source": [
    "We intialize the weights to be random, so the first pass looks jumbled."
   ]
  },
  {
   "cell_type": "code",
   "execution_count": 6,
   "metadata": {
    "collapsed": false
   },
   "outputs": [
    {
     "data": {
      "image/png": "[encoded data removed]",
      "text/plain": [
       "<matplotlib.figure.Figure at 0x20c26cec5f8>"
      ]
     },
     "metadata": {},
     "output_type": "display_data"
    }
   ],
   "source": [
    "out_digit = example.feedforward(in_digit)\n",
    "plt.matshow(out_digit.reshape((28,28)), cmap = 'gray', clim=(0,1))\n",
    "pass"
   ]
  },
  {
   "cell_type": "markdown",
   "metadata": {},
   "source": [
    "We then train the network to reduce the loss function and reproduce the training image. Here are the reconstructed images after just the first 10 training interations. It very rapidly reassembles the digit without error."
   ]
  },
  {
   "cell_type": "code",
   "execution_count": 7,
   "metadata": {
    "collapsed": false
   },
   "outputs": [
    {
     "data": {
      "image/png": "[encoded data removed]",
      "text/plain": [
       "<matplotlib.figure.Figure at 0x20c1d3303c8>"
      ]
     },
     "metadata": {},
     "output_type": "display_data"
    }
   ],
   "source": [
    "fig, ax = plt.subplots(1,4, figsize = (14, 10))\n",
    "\n",
    "for i in range(4):\n",
    "    example.train(in_digit, in_digit)\n",
    "    pred1 = example.predict(in_digit)\n",
    "    ax[i].matshow(pred1.reshape((28,28)), cmap='gray', clim=(0,1))\n",
    "pass"
   ]
  },
  {
   "cell_type": "markdown",
   "metadata": {},
   "source": [
    "### References\n",
    "\n",
    "1. [MNIST data](http://deeplearning.net/tutorial/gettingstarted.html)"
   ]
  }
 ],
 "metadata": {
  "kernelspec": {
   "display_name": "Python [conda root]",
   "language": "python",
   "name": "conda-root-py"
  },
  "language_info": {
   "codemirror_mode": {
    "name": "ipython",
    "version": 3
   },
   "file_extension": ".py",
   "mimetype": "text/x-python",
   "name": "python",
   "nbconvert_exporter": "python",
   "pygments_lexer": "ipython3",
   "version": "3.5.2"
  }
 },
 "nbformat": 4,
 "nbformat_minor": 2
}
