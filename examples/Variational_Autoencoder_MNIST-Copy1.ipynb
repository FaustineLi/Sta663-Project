{
 "cells": [
  {
   "cell_type": "markdown",
   "metadata": {},
   "source": [
    "## Variational Autoencoders"
   ]
  },
  {
   "cell_type": "code",
   "execution_count": 6,
   "metadata": {
    "collapsed": true
   },
   "outputs": [],
   "source": [
    "import pickle, gzip\n",
    "import matplotlib.pyplot as plt \n",
    "import numpy as np\n",
    "import sys\n",
    "%matplotlib inline\n",
    "np.random.seed(0)"
   ]
  },
  {
   "cell_type": "code",
   "execution_count": 7,
   "metadata": {
    "collapsed": true
   },
   "outputs": [],
   "source": [
    "sys.path.append('..\\\\vae')\n",
    "from vae import vae"
   ]
  },
  {
   "cell_type": "code",
   "execution_count": 8,
   "metadata": {
    "collapsed": true
   },
   "outputs": [],
   "source": [
    "with gzip.open('..\\\\resources\\\\mnist.pkl.gz', 'rb') as f:\n",
    "    train, test, val = pickle.load(f, encoding='latin1')\n",
    "    mnist_train = train[0]\n",
    "    mnist_test = test[0]"
   ]
  },
  {
   "cell_type": "markdown",
   "metadata": {},
   "source": [
    "The difference between a Variational Autoencoder and other autoencoder networks is that it explicitly learns a latent variable representation of the data. \n",
    "Our modeling assumption is that the data (in this case, handwritten digits) comes from a latent variable $z$.\n",
    "\n",
    "$$z \\sim N(0, I)$$\n",
    "\n",
    "We want to find the posterior $P(z \\mid x)$, but the computation is intractable. Other methods such as MCMC are computational expensive. The method we will use is variational inference. We will learn an approximation of the posterior $Q(z \\mid x)$. We achieve by adding a regularization term that minimizes the KL divergence between the encoder output $x \\sim N(\\mu, \\sigma^2 I)$ and the latent variable representation. \n",
    "\n",
    "$$D_{kl}(q || p) = -\\frac{1}{2} \\sum (1 + log(\\sigma^2) - \\mu^2 - \\sigma^2) $$\n",
    "\n",
    "The result is a generative models that can produce new images that are similar to ones it has seen.  "
   ]
  },
  {
   "cell_type": "code",
   "execution_count": 25,
   "metadata": {
    "collapsed": true
   },
   "outputs": [],
   "source": [
    "import numpy as np\n",
    "\n",
    "class vae(object):\n",
    "\n",
    "    def __init__(self, input_dim, output_dim, params, latent_dim = 2):\n",
    "        '''intializes weights matrix and parameters'''\n",
    "\n",
    "        # initialize size of VAE\n",
    "        self.latent_dim = latent_dim\n",
    "        self.encoder_layer_sizes = input_dim + [2]\n",
    "        self.decoder_layer_sizes = [latent_dim] + output_dim[::-1] \n",
    "        self.total_layer_sizes   = input_dim + [2, latent_dim] + output_dim[::-1]\n",
    "       \n",
    "        self.number_encoder_layers = len(self.encoder_layer_sizes) - 1\n",
    "        self.number_decoder_layers = len(self.decoder_layer_sizes) - 1\n",
    "        self.number_total_layers   = len(self.total_layer_sizes) - 1\n",
    "\n",
    "        # intialize weights\n",
    "        np.random.seed(10086)\n",
    "        self.encoder_weights = {}\n",
    "        for i in range(self.number_encoder_layers):\n",
    "            self.encoder_weights[i] = np.random.uniform(-0.1, 0.1, \n",
    "                                                        (self.encoder_layer_sizes[i], \n",
    "                                                         self.encoder_layer_sizes[i+1])) \n",
    "        self.decoder_weights = {}\n",
    "        for i in range(self.number_decoder_layers):\n",
    "            self.decoder_weights[i] = np.random.uniform(-0.1, 0.1, \n",
    "                                                        (self.decoder_layer_sizes[i],\n",
    "                                                         self.decoder_layer_sizes[i+1]))\n",
    "        # set params\n",
    "        self.alpha = params['alpha']\n",
    "        self.max_iter = params['max_iter']\n",
    "        self.activation = params['activation']\n",
    "        self.grad_activation = params['grad_act']\n",
    "        self.reconst_loss = params['loss']\n",
    "        self.reconst_grad = params['grad_loss']\n",
    "        self.mode = params['mode']\n",
    "        \n",
    "        if self.mode is 'autoencoder':\n",
    "            self.loss = self.reconst_loss\n",
    "            self.grad_loss = self.reconst_grad\n",
    "        else:\n",
    "            self.loss = (lambda y, yhat: self.reconst_loss(y, yhat) + self.KLD_loss())\n",
    "            self.grad_loss = self.reconst_grad\n",
    "    \n",
    "    def KLD_loss(self):\n",
    "        '''Kullback–Leibler divergence loss'''\n",
    "        return - 0.5 * np.sum(1 + self.sigma - self.mu**2 - np.exp(self.sigma), axis=-1)\n",
    "    \n",
    "    def KLD_grad(self):\n",
    "        '''Kullback–Leibler divergence loss'''\n",
    "        return np.array([self.mu, 0.5 -0.5 / self.sigma])\n",
    "        \n",
    "    def backprop(self, X, y, yhat):\n",
    "        '''back-propagation algorithm'''\n",
    "        # initialize \n",
    "        grad_decoder = {}\n",
    "        grad_encoder = {}\n",
    "    \n",
    "        # backpropogate error through decoder layers\n",
    "        rev_range = np.arange(self.number_decoder_layers)[::-1]\n",
    "        n = rev_range[0]\n",
    "        \n",
    "        if n == 0:\n",
    "            delta = - self.grad_loss(y, yhat) * self.grad_activation(self.decoder_input[0])\n",
    "            grad_decoder[0] = self.encoder_activation[0].T @ delta / X.shape[0]\n",
    "        else:\n",
    "            delta = - self.grad_loss(y, yhat) * self.grad_activation(self.decoder_input[n])\n",
    "            grad_decoder[n] = self.decoder_activation[n-1].T @ delta / X.shape[0]\n",
    "            \n",
    "            for i in rev_range[1:-1]:\n",
    "                delta = delta @ self.decoder_weights[i+1].T * self.grad_activation(self.decoder_input[i])\n",
    "                grad_decoder[i] = self.decoder_activation[i-1].T @ delta / X.shape[0]\n",
    "            \n",
    "            delta = delta @ self.decoder_weights[1].T * self.grad_activation(self.decoder_input[0])\n",
    "            grad_decoder[0] = self.encoder_activation[1].T @ delta / X.shape[0]\n",
    "\n",
    "        # backpropogate errors through encoder layers\n",
    "        rev_range = np.arange(self.number_encoder_layers)[::-1]\n",
    "        n = rev_range[0]\n",
    "        delta_kld = self.KLD_grad().T * self.grad_activation(self.encoder_input[n])\n",
    "        \n",
    "        if n == 0:\n",
    "            delta = delta @ self.decoder_weights[0].T * self.grad_activation(self.encoder_input[0])\n",
    "            if self.mode is 'vae':\n",
    "                delta = delta + delta_kld\n",
    "            grad_encoder[0] = X.T @ delta / X.shape[0]\n",
    "\n",
    "        else:\n",
    "            delta = delta @ self.decoder_weights[0].T * self.grad_activation(self.encoder_input[n])\n",
    "            if self.mode is 'vae':\n",
    "                delta = delta + delta_kld\n",
    "            grad_encoder[n] = self.encoder_activation[0].T @ delta /X.shape[0]\n",
    "        \n",
    "            for i in rev_range[1:-1]:\n",
    "                delta = delta @ self.encoder_weights[i+1].T * self.grad_activation(self.encoder_input[i])\n",
    "                grad_encoder[i] = self.encoder_activation[i-1].T @ delta /X.shape[0]\n",
    "                \n",
    "            delta = delta @ self.encoder_weights[1].T * self.grad_activation(self.encoder_input[0])\n",
    "            grad_encoder[0] = X.T @ delta /X.shape[0]\n",
    "    \n",
    "        return grad_encoder, grad_decoder \n",
    "            \n",
    "    def feedforward(self, train_data):\n",
    "        '''feedforward update step'''\n",
    "        \n",
    "        # initialize storage for activations\n",
    "        self.encoder_input = {}\n",
    "        self.encoder_activation = {}\n",
    "        self.decoder_input = {}\n",
    "        self.decoder_activation = {}\n",
    "        \n",
    "        self.encoder_input[0]      = train_data @ self.encoder_weights[0]\n",
    "        self.encoder_activation[0] = self.activation(self.encoder_input[0])\n",
    "            \n",
    "        # feedforward update on encoder network\n",
    "        for i in range(1, self.number_encoder_layers):\n",
    "            self.encoder_input[i] = self.encoder_input[i-1] @ self.encoder_weights[i]\n",
    "            self.encoder_activation[i] = self.activation(self.encoder_input[i])\n",
    "        \n",
    "        # store output as encoded latent variable parameters\n",
    "        self.mu = self.encoder_activation[self.number_encoder_layers - 1][:,1]\n",
    "        self.sigma = self.encoder_activation[self.number_encoder_layers - 1][:,0]\n",
    "        \n",
    "        # sample latent variable using reparameterization trick\n",
    "        if self.mode is 'vae':\n",
    "            self.epsilon = np.random.normal(0, 1, (self.mu.size, self.latent_dim))\n",
    "            self.z = self.mu[:, None] + self.sigma[:,None] * self.epsilon\n",
    "        else:\n",
    "            self.z = self.encoder_activation[self.number_encoder_layers - 1]\n",
    "    \n",
    "        # feedforward update on the decoder network\n",
    "        self.decoder_input[0]      = self.z @ self.decoder_weights[0]\n",
    "        self.decoder_activation[0] = self.activation(self.decoder_input[0])\n",
    "        \n",
    "        for i in range(1, self.number_decoder_layers):\n",
    "            self.decoder_input[i] = self.decoder_input[i-1] @ self.decoder_weights[i]\n",
    "            self.decoder_activation[i] = self.activation(self.decoder_input[i])\n",
    "\n",
    "        return self.decoder_activation[self.number_decoder_layers - 1]\n",
    "    \n",
    "    \n",
    "    def train(self, X, y):\n",
    "        '''trains the VAE model'''\n",
    "        for i in range(self.max_iter):\n",
    "            yhat = self.feedforward(X)\n",
    "            grad_encoder, grad_decoder = self.backprop(X, y, yhat)\n",
    "            for i in range(self.number_decoder_layers):\n",
    "                self.decoder_weights[i] -= self.alpha * grad_decoder[i]\n",
    "        \n",
    "            for j in range(self.number_encoder_layers):\n",
    "                self.encoder_weights[j] -= self.alpha * grad_encoder[j]\n",
    "                change = grad_encoder[j]\n",
    "                \n",
    "        return None\n",
    "\n",
    "    def predict(self, X):\n",
    "        '''predicts on a trained VAE model'''        \n",
    "        return self.feedforward(X)\n",
    "    \n",
    "    def generate(self, z):\n",
    "        '''generates new images from a trained VAE model'''        \n",
    "        # feedforward on decoder\n",
    "        self.gen_input = {}\n",
    "        self.gen_activation = {}\n",
    "        self.gen_input[0]     = z.T @ self.decoder_weights[0]\n",
    "        self.gen_activation[0] = self.activation(self.gen_input[0])\n",
    "        \n",
    "        for i in range(1, self.number_decoder_layers):\n",
    "            self.gen_input[i] = self.gen_input[i-1] @ self.decoder_weights[i]\n",
    "            self.gen_activation[i] = self.activation(self.gen_input[i])\n",
    "\n",
    "        return self.gen_activation[self.number_decoder_layers - 1]"
   ]
  },
  {
   "cell_type": "code",
   "execution_count": 26,
   "metadata": {
    "collapsed": true
   },
   "outputs": [],
   "source": [
    "params = {\n",
    "    'alpha' : 0.2,\n",
    "    'max_iter' : 100,\n",
    "    'activation' : (lambda x: 1 / (1 + np.exp(-x))),\n",
    "    'grad_act' : (lambda x: np.exp(-x) / (1 + np.exp(-x))**2),\n",
    "    'loss' : (lambda y, yhat: 0.5 * np.sum((y - yhat)**2)),\n",
    "    'grad_loss' : (lambda y, yhat: y - yhat),\n",
    "    'mode' : 'vae'\n",
    "}\n",
    "\n",
    "example = vae([784, 200], [784, 200], params)"
   ]
  },
  {
   "cell_type": "code",
   "execution_count": 28,
   "metadata": {},
   "outputs": [
    {
     "ename": "AttributeError",
     "evalue": "'vae' object has no attribute 'mu'",
     "output_type": "error",
     "traceback": [
      "\u001b[1;31m---------------------------------------------------------------------------\u001b[0m",
      "\u001b[1;31mAttributeError\u001b[0m                            Traceback (most recent call last)",
      "\u001b[1;32m<ipython-input-28-ab356f3da0ca>\u001b[0m in \u001b[0;36m<module>\u001b[1;34m()\u001b[0m\n\u001b[1;32m----> 1\u001b[1;33m \u001b[0mexample\u001b[0m\u001b[1;33m.\u001b[0m\u001b[0mmu\u001b[0m\u001b[1;33m\u001b[0m\u001b[0m\n\u001b[0m",
      "\u001b[1;31mAttributeError\u001b[0m: 'vae' object has no attribute 'mu'"
     ]
    }
   ],
   "source": [
    "example.mu"
   ]
  },
  {
   "cell_type": "markdown",
   "metadata": {},
   "source": [
    "### Training"
   ]
  },
  {
   "cell_type": "markdown",
   "metadata": {},
   "source": [
    "Here we pass in a set of training digits. From there the network will reconstruct a latent variable representation."
   ]
  },
  {
   "cell_type": "code",
   "execution_count": 24,
   "metadata": {},
   "outputs": [
    {
     "ename": "KeyboardInterrupt",
     "evalue": "",
     "output_type": "error",
     "traceback": [
      "\u001b[1;31m---------------------------------------------------------------------------\u001b[0m",
      "\u001b[1;31mKeyboardInterrupt\u001b[0m                         Traceback (most recent call last)",
      "\u001b[1;32m<ipython-input-24-b307be117ef3>\u001b[0m in \u001b[0;36m<module>\u001b[1;34m()\u001b[0m\n\u001b[1;32m----> 1\u001b[1;33m \u001b[0mexample\u001b[0m\u001b[1;33m.\u001b[0m\u001b[0mtrain\u001b[0m\u001b[1;33m(\u001b[0m\u001b[0mmnist_train\u001b[0m\u001b[1;33m,\u001b[0m \u001b[0mmnist_train\u001b[0m\u001b[1;33m)\u001b[0m\u001b[1;33m\u001b[0m\u001b[0m\n\u001b[0m",
      "\u001b[1;32m<ipython-input-19-1379fba83415>\u001b[0m in \u001b[0;36mtrain\u001b[1;34m(self, X, y)\u001b[0m\n\u001b[0;32m    145\u001b[0m         \u001b[1;32mfor\u001b[0m \u001b[0mi\u001b[0m \u001b[1;32min\u001b[0m \u001b[0mrange\u001b[0m\u001b[1;33m(\u001b[0m\u001b[0mself\u001b[0m\u001b[1;33m.\u001b[0m\u001b[0mmax_iter\u001b[0m\u001b[1;33m)\u001b[0m\u001b[1;33m:\u001b[0m\u001b[1;33m\u001b[0m\u001b[0m\n\u001b[0;32m    146\u001b[0m             \u001b[0myhat\u001b[0m \u001b[1;33m=\u001b[0m \u001b[0mself\u001b[0m\u001b[1;33m.\u001b[0m\u001b[0mfeedforward\u001b[0m\u001b[1;33m(\u001b[0m\u001b[0mX\u001b[0m\u001b[1;33m)\u001b[0m\u001b[1;33m\u001b[0m\u001b[0m\n\u001b[1;32m--> 147\u001b[1;33m             \u001b[0mgrad_encoder\u001b[0m\u001b[1;33m,\u001b[0m \u001b[0mgrad_decoder\u001b[0m \u001b[1;33m=\u001b[0m \u001b[0mself\u001b[0m\u001b[1;33m.\u001b[0m\u001b[0mbackprop\u001b[0m\u001b[1;33m(\u001b[0m\u001b[0mX\u001b[0m\u001b[1;33m,\u001b[0m \u001b[0my\u001b[0m\u001b[1;33m,\u001b[0m \u001b[0myhat\u001b[0m\u001b[1;33m)\u001b[0m\u001b[1;33m\u001b[0m\u001b[0m\n\u001b[0m\u001b[0;32m    148\u001b[0m             \u001b[1;32mfor\u001b[0m \u001b[0mi\u001b[0m \u001b[1;32min\u001b[0m \u001b[0mrange\u001b[0m\u001b[1;33m(\u001b[0m\u001b[0mself\u001b[0m\u001b[1;33m.\u001b[0m\u001b[0mnumber_decoder_layers\u001b[0m\u001b[1;33m)\u001b[0m\u001b[1;33m:\u001b[0m\u001b[1;33m\u001b[0m\u001b[0m\n\u001b[0;32m    149\u001b[0m                 \u001b[0mself\u001b[0m\u001b[1;33m.\u001b[0m\u001b[0mdecoder_weights\u001b[0m\u001b[1;33m[\u001b[0m\u001b[0mi\u001b[0m\u001b[1;33m]\u001b[0m \u001b[1;33m-=\u001b[0m \u001b[0mself\u001b[0m\u001b[1;33m.\u001b[0m\u001b[0malpha\u001b[0m \u001b[1;33m*\u001b[0m \u001b[0mgrad_decoder\u001b[0m\u001b[1;33m[\u001b[0m\u001b[0mi\u001b[0m\u001b[1;33m]\u001b[0m\u001b[1;33m\u001b[0m\u001b[0m\n",
      "\u001b[1;32m<ipython-input-19-1379fba83415>\u001b[0m in \u001b[0;36mbackprop\u001b[1;34m(self, X, y, yhat)\u001b[0m\n\u001b[0;32m     66\u001b[0m             \u001b[0mgrad_decoder\u001b[0m\u001b[1;33m[\u001b[0m\u001b[1;36m0\u001b[0m\u001b[1;33m]\u001b[0m \u001b[1;33m=\u001b[0m \u001b[0mself\u001b[0m\u001b[1;33m.\u001b[0m\u001b[0mencoder_activation\u001b[0m\u001b[1;33m[\u001b[0m\u001b[1;36m0\u001b[0m\u001b[1;33m]\u001b[0m\u001b[1;33m.\u001b[0m\u001b[0mT\u001b[0m \u001b[1;33m@\u001b[0m \u001b[0mdelta\u001b[0m \u001b[1;33m/\u001b[0m \u001b[0mX\u001b[0m\u001b[1;33m.\u001b[0m\u001b[0mshape\u001b[0m\u001b[1;33m[\u001b[0m\u001b[1;36m0\u001b[0m\u001b[1;33m]\u001b[0m\u001b[1;33m\u001b[0m\u001b[0m\n\u001b[0;32m     67\u001b[0m         \u001b[1;32melse\u001b[0m\u001b[1;33m:\u001b[0m\u001b[1;33m\u001b[0m\u001b[0m\n\u001b[1;32m---> 68\u001b[1;33m             \u001b[0mdelta\u001b[0m \u001b[1;33m=\u001b[0m \u001b[1;33m-\u001b[0m \u001b[0mself\u001b[0m\u001b[1;33m.\u001b[0m\u001b[0mgrad_loss\u001b[0m\u001b[1;33m(\u001b[0m\u001b[0my\u001b[0m\u001b[1;33m,\u001b[0m \u001b[0myhat\u001b[0m\u001b[1;33m)\u001b[0m \u001b[1;33m*\u001b[0m \u001b[0mself\u001b[0m\u001b[1;33m.\u001b[0m\u001b[0mgrad_activation\u001b[0m\u001b[1;33m(\u001b[0m\u001b[0mself\u001b[0m\u001b[1;33m.\u001b[0m\u001b[0mdecoder_input\u001b[0m\u001b[1;33m[\u001b[0m\u001b[0mn\u001b[0m\u001b[1;33m]\u001b[0m\u001b[1;33m)\u001b[0m\u001b[1;33m\u001b[0m\u001b[0m\n\u001b[0m\u001b[0;32m     69\u001b[0m             \u001b[0mgrad_decoder\u001b[0m\u001b[1;33m[\u001b[0m\u001b[0mn\u001b[0m\u001b[1;33m]\u001b[0m \u001b[1;33m=\u001b[0m \u001b[0mself\u001b[0m\u001b[1;33m.\u001b[0m\u001b[0mdecoder_activation\u001b[0m\u001b[1;33m[\u001b[0m\u001b[0mn\u001b[0m\u001b[1;33m-\u001b[0m\u001b[1;36m1\u001b[0m\u001b[1;33m]\u001b[0m\u001b[1;33m.\u001b[0m\u001b[0mT\u001b[0m \u001b[1;33m@\u001b[0m \u001b[0mdelta\u001b[0m \u001b[1;33m/\u001b[0m \u001b[0mX\u001b[0m\u001b[1;33m.\u001b[0m\u001b[0mshape\u001b[0m\u001b[1;33m[\u001b[0m\u001b[1;36m0\u001b[0m\u001b[1;33m]\u001b[0m\u001b[1;33m\u001b[0m\u001b[0m\n\u001b[0;32m     70\u001b[0m \u001b[1;33m\u001b[0m\u001b[0m\n",
      "\u001b[1;31mKeyboardInterrupt\u001b[0m: "
     ]
    }
   ],
   "source": [
    "example.train(mnist_train, mnist_train)"
   ]
  },
  {
   "cell_type": "markdown",
   "metadata": {},
   "source": [
    "Now let's inspect the generated images compared to the originals. "
   ]
  },
  {
   "cell_type": "code",
   "execution_count": null,
   "metadata": {},
   "outputs": [],
   "source": [
    "fig, ax = plt.subplots(2,3, figsize = (10, 6))\n",
    "\n",
    "for i in range(3):\n",
    "    in_digit = mnist_test[i][None,:]\n",
    "    out_digit = example.predict(in_digit)\n",
    "    ax[0,i].matshow(in_digit.reshape((28,28)),  cmap='gray', clim=(0,1))\n",
    "    ax[1,i].matshow(out_digit.reshape((28,28)), cmap='gray', clim=(0,1))\n",
    "pass"
   ]
  },
  {
   "cell_type": "markdown",
   "metadata": {},
   "source": [
    "### Generating"
   ]
  },
  {
   "cell_type": "markdown",
   "metadata": {},
   "source": [
    "We can now generate new images as well."
   ]
  },
  {
   "cell_type": "code",
   "execution_count": 7,
   "metadata": {},
   "outputs": [
    {
     "data": {
      "image/png": "[encoded data removed]",
      "text/plain": [
       "<matplotlib.figure.Figure at 0x178b189dd68>"
      ]
     },
     "metadata": {},
     "output_type": "display_data"
    }
   ],
   "source": [
    "fig, ax = plt.subplots(2,2, figsize = (6, 6))\n",
    "\n",
    "a = np.array([1, 3])\n",
    "b = np.array([1, 3])\n",
    "\n",
    "for i, z1 in enumerate(a):\n",
    "    for j, z2 in enumerate(b):\n",
    "        ax[i,j].matshow(example.generate(np.array([z1,z2])).reshape((28,28)),  cmap='gray', clim=(0,1))\n",
    "pass"
   ]
  },
  {
   "cell_type": "markdown",
   "metadata": {},
   "source": [
    "### References\n",
    "\n",
    "1. [MNIST data](http://deeplearning.net/tutorial/gettingstarted.html)"
   ]
  }
 ],
 "metadata": {
  "kernelspec": {
   "display_name": "Python 3",
   "language": "python",
   "name": "python3"
  },
  "language_info": {
   "codemirror_mode": {
    "name": "ipython",
    "version": 3
   },
   "file_extension": ".py",
   "mimetype": "text/x-python",
   "name": "python",
   "nbconvert_exporter": "python",
   "pygments_lexer": "ipython3",
   "version": "3.6.1"
  }
 },
 "nbformat": 4,
 "nbformat_minor": 2
}
